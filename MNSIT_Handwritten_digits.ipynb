{
  "nbformat": 4,
  "nbformat_minor": 0,
  "metadata": {
    "colab": {
      "name": "MNSIT_Handwritten_digits.ipynb",
      "provenance": [],
      "authorship_tag": "ABX9TyMw0TahC7+L6qNz8dpra4Hu",
      "include_colab_link": true
    },
    "kernelspec": {
      "name": "python3",
      "display_name": "Python 3"
    }
  },
  "cells": [
    {
      "cell_type": "markdown",
      "metadata": {
        "id": "view-in-github",
        "colab_type": "text"
      },
      "source": [
        "<a href=\"https://colab.research.google.com/github/Susheel06/mnsit_handwritten_digits/blob/master/MNSIT_Handwritten_digits.ipynb\" target=\"_parent\"><img src=\"https://colab.research.google.com/assets/colab-badge.svg\" alt=\"Open In Colab\"/></a>"
      ]
    },
    {
      "cell_type": "code",
      "metadata": {
        "id": "ZHXVmT5oQznS",
        "colab_type": "code",
        "colab": {}
      },
      "source": [
        "import pandas as pd\n",
        "import numpy as np\n",
        "import sklearn\n",
        "from sklearn.neural_network import MLPClassifier\n",
        "import tensorflow as tf"
      ],
      "execution_count": 102,
      "outputs": []
    },
    {
      "cell_type": "code",
      "metadata": {
        "id": "UTBsO1DxUxCb",
        "colab_type": "code",
        "colab": {}
      },
      "source": [
        "(x_train, y_train), (x_test, y_test) = tf.keras.datasets.mnist.load_data()"
      ],
      "execution_count": 103,
      "outputs": []
    },
    {
      "cell_type": "code",
      "metadata": {
        "id": "XWVnNMYqW1KQ",
        "colab_type": "code",
        "colab": {}
      },
      "source": [
        "x_train = x_train.astype('float32')\n",
        "x_test = x_test.astype('float32')\n",
        "x_train, x_test = x_train/255.0, x_test/255.0\n",
        "\n",
        "x_train = x_train.reshape((x_train.shape[0], 28, 28, 1))\n",
        "x_test = x_test.reshape((x_test.shape[0], 28, 28, 1))"
      ],
      "execution_count": 105,
      "outputs": []
    },
    {
      "cell_type": "code",
      "metadata": {
        "id": "eOG10tyMW8q-",
        "colab_type": "code",
        "colab": {}
      },
      "source": [
        "y_train = tf.keras.utils.to_categorical(y_train)\n",
        "y_test = tf.keras.utils.to_categorical(y_test)"
      ],
      "execution_count": 106,
      "outputs": []
    },
    {
      "cell_type": "code",
      "metadata": {
        "id": "pysgTBR2cyAb",
        "colab_type": "code",
        "colab": {}
      },
      "source": [
        "y_train[0]"
      ],
      "execution_count": null,
      "outputs": []
    },
    {
      "cell_type": "code",
      "metadata": {
        "id": "PQfCKwufRE4X",
        "colab_type": "code",
        "colab": {}
      },
      "source": [
        "model = tf.keras.models.Sequential([\n",
        "        # tf.keras.layers.Conv2D(32, (3, 3), activation='relu', input_shape=(28, 28, 1)),\n",
        "        # tf.keras.layers.MaxPooling2D(2,2),\n",
        "        # tf.keras.layers.Flatten(),\n",
        "        tf.keras.layers.Flatten(input_shape=(28, 28, 1)),\n",
        "        tf.keras.layers.Dense(100, activation='sigmoid'),\n",
        "        tf.keras.layers.Dense(150, activation='sigmoid'),\n",
        "        tf.keras.layers.Dense(10, activation='softmax')\n",
        "])"
      ],
      "execution_count": 112,
      "outputs": []
    },
    {
      "cell_type": "code",
      "metadata": {
        "id": "49FXIWOGYRUz",
        "colab_type": "code",
        "colab": {}
      },
      "source": [
        "opt = tf.keras.optimizers.SGD(lr=0.01, momentum=0.9)\n",
        "model.compile(optimizer=opt, loss='categorical_crossentropy', metrics=['acc'])"
      ],
      "execution_count": 113,
      "outputs": []
    },
    {
      "cell_type": "code",
      "metadata": {
        "id": "JdSlFPj2dETX",
        "colab_type": "code",
        "colab": {
          "base_uri": "https://localhost:8080/",
          "height": 301
        },
        "outputId": "ba0552b6-f991-499a-c45d-54f038b18c82"
      },
      "source": [
        "model.summary()"
      ],
      "execution_count": 114,
      "outputs": [
        {
          "output_type": "stream",
          "text": [
            "Model: \"sequential_11\"\n",
            "_________________________________________________________________\n",
            "Layer (type)                 Output Shape              Param #   \n",
            "=================================================================\n",
            "flatten_18 (Flatten)         (None, 784)               0         \n",
            "_________________________________________________________________\n",
            "dense_38 (Dense)             (None, 100)               78500     \n",
            "_________________________________________________________________\n",
            "dense_39 (Dense)             (None, 150)               15150     \n",
            "_________________________________________________________________\n",
            "dense_40 (Dense)             (None, 10)                1510      \n",
            "=================================================================\n",
            "Total params: 95,160\n",
            "Trainable params: 95,160\n",
            "Non-trainable params: 0\n",
            "_________________________________________________________________\n"
          ],
          "name": "stdout"
        }
      ]
    },
    {
      "cell_type": "code",
      "metadata": {
        "id": "Fj3bVOZDSHWc",
        "colab_type": "code",
        "colab": {
          "base_uri": "https://localhost:8080/",
          "height": 1000
        },
        "outputId": "4c1d84e4-80e3-463e-89c9-4526224aca7e"
      },
      "source": [
        "history=model.fit(\n",
        "  x_train,\n",
        "  y_train,\n",
        "  epochs=30,\n",
        "  validation_data=(x_test, y_test),\n",
        "  verbose=1,\n",
        "  batch_size=10\n",
        "  )"
      ],
      "execution_count": 116,
      "outputs": [
        {
          "output_type": "stream",
          "text": [
            "Epoch 1/30\n",
            "6000/6000 [==============================] - 8s 1ms/step - loss: 0.5240 - acc: 0.8377 - val_loss: 0.2651 - val_acc: 0.9208\n",
            "Epoch 2/30\n",
            "6000/6000 [==============================] - 8s 1ms/step - loss: 0.2177 - acc: 0.9359 - val_loss: 0.1732 - val_acc: 0.9482\n",
            "Epoch 3/30\n",
            "6000/6000 [==============================] - 8s 1ms/step - loss: 0.1567 - acc: 0.9534 - val_loss: 0.1335 - val_acc: 0.9585\n",
            "Epoch 4/30\n",
            "6000/6000 [==============================] - 8s 1ms/step - loss: 0.1234 - acc: 0.9631 - val_loss: 0.1220 - val_acc: 0.9619\n",
            "Epoch 5/30\n",
            "6000/6000 [==============================] - 10s 2ms/step - loss: 0.0997 - acc: 0.9699 - val_loss: 0.1032 - val_acc: 0.9675\n",
            "Epoch 6/30\n",
            "6000/6000 [==============================] - 8s 1ms/step - loss: 0.0848 - acc: 0.9741 - val_loss: 0.0905 - val_acc: 0.9707\n",
            "Epoch 7/30\n",
            "6000/6000 [==============================] - 8s 1ms/step - loss: 0.0716 - acc: 0.9778 - val_loss: 0.0926 - val_acc: 0.9713\n",
            "Epoch 8/30\n",
            "6000/6000 [==============================] - 8s 1ms/step - loss: 0.0621 - acc: 0.9810 - val_loss: 0.0825 - val_acc: 0.9746\n",
            "Epoch 9/30\n",
            "6000/6000 [==============================] - 8s 1ms/step - loss: 0.0539 - acc: 0.9838 - val_loss: 0.0805 - val_acc: 0.9763\n",
            "Epoch 10/30\n",
            "6000/6000 [==============================] - 8s 1ms/step - loss: 0.0468 - acc: 0.9858 - val_loss: 0.0741 - val_acc: 0.9770\n",
            "Epoch 11/30\n",
            "6000/6000 [==============================] - 8s 1ms/step - loss: 0.0404 - acc: 0.9876 - val_loss: 0.0849 - val_acc: 0.9748\n",
            "Epoch 12/30\n",
            "6000/6000 [==============================] - 8s 1ms/step - loss: 0.0350 - acc: 0.9897 - val_loss: 0.0740 - val_acc: 0.9789\n",
            "Epoch 13/30\n",
            "6000/6000 [==============================] - 8s 1ms/step - loss: 0.0308 - acc: 0.9905 - val_loss: 0.0765 - val_acc: 0.9777\n",
            "Epoch 14/30\n",
            "6000/6000 [==============================] - 8s 1ms/step - loss: 0.0266 - acc: 0.9922 - val_loss: 0.0782 - val_acc: 0.9761\n",
            "Epoch 15/30\n",
            "6000/6000 [==============================] - 8s 1ms/step - loss: 0.0228 - acc: 0.9936 - val_loss: 0.0767 - val_acc: 0.9769\n",
            "Epoch 16/30\n",
            "6000/6000 [==============================] - 8s 1ms/step - loss: 0.0194 - acc: 0.9947 - val_loss: 0.0753 - val_acc: 0.9787\n",
            "Epoch 17/30\n",
            "6000/6000 [==============================] - 8s 1ms/step - loss: 0.0171 - acc: 0.9954 - val_loss: 0.0756 - val_acc: 0.9782\n",
            "Epoch 18/30\n",
            "6000/6000 [==============================] - 8s 1ms/step - loss: 0.0144 - acc: 0.9966 - val_loss: 0.0753 - val_acc: 0.9780\n",
            "Epoch 19/30\n",
            "6000/6000 [==============================] - 8s 1ms/step - loss: 0.0121 - acc: 0.9975 - val_loss: 0.0764 - val_acc: 0.9792\n",
            "Epoch 20/30\n",
            "6000/6000 [==============================] - 8s 1ms/step - loss: 0.0104 - acc: 0.9978 - val_loss: 0.0772 - val_acc: 0.9783\n",
            "Epoch 21/30\n",
            "6000/6000 [==============================] - 8s 1ms/step - loss: 0.0084 - acc: 0.9986 - val_loss: 0.0767 - val_acc: 0.9792\n",
            "Epoch 22/30\n",
            "6000/6000 [==============================] - 8s 1ms/step - loss: 0.0074 - acc: 0.9989 - val_loss: 0.0879 - val_acc: 0.9775\n",
            "Epoch 23/30\n",
            "6000/6000 [==============================] - 8s 1ms/step - loss: 0.0062 - acc: 0.9993 - val_loss: 0.0775 - val_acc: 0.9799\n",
            "Epoch 24/30\n",
            "6000/6000 [==============================] - 8s 1ms/step - loss: 0.0054 - acc: 0.9995 - val_loss: 0.0790 - val_acc: 0.9800\n",
            "Epoch 25/30\n",
            "6000/6000 [==============================] - 8s 1ms/step - loss: 0.0046 - acc: 0.9996 - val_loss: 0.0819 - val_acc: 0.9796\n",
            "Epoch 26/30\n",
            "6000/6000 [==============================] - 8s 1ms/step - loss: 0.0039 - acc: 0.9997 - val_loss: 0.0863 - val_acc: 0.9790\n",
            "Epoch 27/30\n",
            "6000/6000 [==============================] - 9s 1ms/step - loss: 0.0034 - acc: 0.9998 - val_loss: 0.0824 - val_acc: 0.9799\n",
            "Epoch 28/30\n",
            "6000/6000 [==============================] - 9s 1ms/step - loss: 0.0031 - acc: 0.9999 - val_loss: 0.0830 - val_acc: 0.9796\n",
            "Epoch 29/30\n",
            "6000/6000 [==============================] - 9s 1ms/step - loss: 0.0027 - acc: 0.9999 - val_loss: 0.0853 - val_acc: 0.9792\n",
            "Epoch 30/30\n",
            "6000/6000 [==============================] - 9s 1ms/step - loss: 0.0024 - acc: 0.9999 - val_loss: 0.0846 - val_acc: 0.9793\n"
          ],
          "name": "stdout"
        }
      ]
    },
    {
      "cell_type": "code",
      "metadata": {
        "id": "ZdUA1m5OcLbN",
        "colab_type": "code",
        "colab": {
          "base_uri": "https://localhost:8080/",
          "height": 316
        },
        "outputId": "79e8d631-6d4c-4bc1-c147-3a0970ff766a"
      },
      "source": [
        "N = 30\n",
        "plt.style.use(\"ggplot\")\n",
        "plt.figure()\n",
        "plt.plot(np.arange(0, N), history.history[\"loss\"], label=\"train_loss\")\n",
        "plt.plot(np.arange(0, N), history.history[\"val_loss\"], label=\"val_loss\")\n",
        "plt.plot(np.arange(0, N), history.history[\"acc\"], label=\"train_acc\")\n",
        "plt.plot(np.arange(0, N), history.history[\"val_acc\"], label=\"val_acc\")\n",
        "plt.title(\"Training Loss and Accuracy\")\n",
        "plt.xlabel(\"Epoch #\")\n",
        "plt.ylabel(\"Loss/Accuracy\")\n",
        "plt.legend(loc=\"lower left\")"
      ],
      "execution_count": 119,
      "outputs": [
        {
          "output_type": "execute_result",
          "data": {
            "text/plain": [
              "<matplotlib.legend.Legend at 0x7f9dd71aeac8>"
            ]
          },
          "metadata": {
            "tags": []
          },
          "execution_count": 119
        },
        {
          "output_type": "display_data",
          "data": {
            "image/png": "[encoded data removed]",
            "text/plain": [
              "<Figure size 432x288 with 1 Axes>"
            ]
          },
          "metadata": {
            "tags": []
          }
        }
      ]
    }
  ]
}